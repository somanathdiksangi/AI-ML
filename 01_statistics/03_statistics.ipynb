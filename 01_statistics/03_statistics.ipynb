{
 "cells": [
  {
   "cell_type": "code",
   "execution_count": 6,
   "id": "d6a8b528-dbee-4c50-b55a-fe6e6f3b1342",
   "metadata": {},
   "outputs": [],
   "source": [
    "import pandas as pd"
   ]
  },
  {
   "cell_type": "code",
   "execution_count": 7,
   "id": "43580038-8047-49a9-bb96-a21b94a91f1a",
   "metadata": {},
   "outputs": [],
   "source": [
    "data=[12, 12, 24, 32, 32, 32, 43, 45, 45, 52, 67,200,1000]"
   ]
  },
  {
   "cell_type": "code",
   "execution_count": 8,
   "id": "c5181389-b8b9-473c-bee1-fb98b0543446",
   "metadata": {},
   "outputs": [],
   "source": [
    "data2=pd.read_csv(\"https://raw.githubusercontent.com/sunnysavita10/Statistics-With-Python-CompleteGuide/refs/heads/main/Iris.csv\")"
   ]
  },
  {
   "cell_type": "code",
   "execution_count": 9,
   "id": "72cf4446-ac20-4e77-9564-5ebf2c1ec481",
   "metadata": {},
   "outputs": [
    {
     "data": {
      "text/html": [
       "<div>\n",
       "<style scoped>\n",
       "    .dataframe tbody tr th:only-of-type {\n",
       "        vertical-align: middle;\n",
       "    }\n",
       "\n",
       "    .dataframe tbody tr th {\n",
       "        vertical-align: top;\n",
       "    }\n",
       "\n",
       "    .dataframe thead th {\n",
       "        text-align: right;\n",
       "    }\n",
       "</style>\n",
       "<table border=\"1\" class=\"dataframe\">\n",
       "  <thead>\n",
       "    <tr style=\"text-align: right;\">\n",
       "      <th></th>\n",
       "      <th>Id</th>\n",
       "      <th>SepalLengthCm</th>\n",
       "      <th>SepalWidthCm</th>\n",
       "      <th>PetalLengthCm</th>\n",
       "      <th>PetalWidthCm</th>\n",
       "      <th>Species</th>\n",
       "    </tr>\n",
       "  </thead>\n",
       "  <tbody>\n",
       "    <tr>\n",
       "      <th>0</th>\n",
       "      <td>1</td>\n",
       "      <td>5.1</td>\n",
       "      <td>3.5</td>\n",
       "      <td>1.4</td>\n",
       "      <td>0.2</td>\n",
       "      <td>Iris-setosa</td>\n",
       "    </tr>\n",
       "    <tr>\n",
       "      <th>1</th>\n",
       "      <td>2</td>\n",
       "      <td>4.9</td>\n",
       "      <td>3.0</td>\n",
       "      <td>1.4</td>\n",
       "      <td>0.2</td>\n",
       "      <td>Iris-setosa</td>\n",
       "    </tr>\n",
       "    <tr>\n",
       "      <th>2</th>\n",
       "      <td>3</td>\n",
       "      <td>4.7</td>\n",
       "      <td>3.2</td>\n",
       "      <td>1.3</td>\n",
       "      <td>0.2</td>\n",
       "      <td>Iris-setosa</td>\n",
       "    </tr>\n",
       "    <tr>\n",
       "      <th>3</th>\n",
       "      <td>4</td>\n",
       "      <td>4.6</td>\n",
       "      <td>3.1</td>\n",
       "      <td>1.5</td>\n",
       "      <td>0.2</td>\n",
       "      <td>Iris-setosa</td>\n",
       "    </tr>\n",
       "    <tr>\n",
       "      <th>4</th>\n",
       "      <td>5</td>\n",
       "      <td>5.0</td>\n",
       "      <td>3.6</td>\n",
       "      <td>1.4</td>\n",
       "      <td>0.2</td>\n",
       "      <td>Iris-setosa</td>\n",
       "    </tr>\n",
       "    <tr>\n",
       "      <th>...</th>\n",
       "      <td>...</td>\n",
       "      <td>...</td>\n",
       "      <td>...</td>\n",
       "      <td>...</td>\n",
       "      <td>...</td>\n",
       "      <td>...</td>\n",
       "    </tr>\n",
       "    <tr>\n",
       "      <th>145</th>\n",
       "      <td>146</td>\n",
       "      <td>6.7</td>\n",
       "      <td>3.0</td>\n",
       "      <td>5.2</td>\n",
       "      <td>2.3</td>\n",
       "      <td>Iris-virginica</td>\n",
       "    </tr>\n",
       "    <tr>\n",
       "      <th>146</th>\n",
       "      <td>147</td>\n",
       "      <td>6.3</td>\n",
       "      <td>2.5</td>\n",
       "      <td>5.0</td>\n",
       "      <td>1.9</td>\n",
       "      <td>Iris-virginica</td>\n",
       "    </tr>\n",
       "    <tr>\n",
       "      <th>147</th>\n",
       "      <td>148</td>\n",
       "      <td>6.5</td>\n",
       "      <td>3.0</td>\n",
       "      <td>5.2</td>\n",
       "      <td>2.0</td>\n",
       "      <td>Iris-virginica</td>\n",
       "    </tr>\n",
       "    <tr>\n",
       "      <th>148</th>\n",
       "      <td>149</td>\n",
       "      <td>6.2</td>\n",
       "      <td>3.4</td>\n",
       "      <td>5.4</td>\n",
       "      <td>2.3</td>\n",
       "      <td>Iris-virginica</td>\n",
       "    </tr>\n",
       "    <tr>\n",
       "      <th>149</th>\n",
       "      <td>150</td>\n",
       "      <td>5.9</td>\n",
       "      <td>3.0</td>\n",
       "      <td>5.1</td>\n",
       "      <td>1.8</td>\n",
       "      <td>Iris-virginica</td>\n",
       "    </tr>\n",
       "  </tbody>\n",
       "</table>\n",
       "<p>150 rows × 6 columns</p>\n",
       "</div>"
      ],
      "text/plain": [
       "      Id  SepalLengthCm  SepalWidthCm  PetalLengthCm  PetalWidthCm  \\\n",
       "0      1            5.1           3.5            1.4           0.2   \n",
       "1      2            4.9           3.0            1.4           0.2   \n",
       "2      3            4.7           3.2            1.3           0.2   \n",
       "3      4            4.6           3.1            1.5           0.2   \n",
       "4      5            5.0           3.6            1.4           0.2   \n",
       "..   ...            ...           ...            ...           ...   \n",
       "145  146            6.7           3.0            5.2           2.3   \n",
       "146  147            6.3           2.5            5.0           1.9   \n",
       "147  148            6.5           3.0            5.2           2.0   \n",
       "148  149            6.2           3.4            5.4           2.3   \n",
       "149  150            5.9           3.0            5.1           1.8   \n",
       "\n",
       "            Species  \n",
       "0       Iris-setosa  \n",
       "1       Iris-setosa  \n",
       "2       Iris-setosa  \n",
       "3       Iris-setosa  \n",
       "4       Iris-setosa  \n",
       "..              ...  \n",
       "145  Iris-virginica  \n",
       "146  Iris-virginica  \n",
       "147  Iris-virginica  \n",
       "148  Iris-virginica  \n",
       "149  Iris-virginica  \n",
       "\n",
       "[150 rows x 6 columns]"
      ]
     },
     "execution_count": 9,
     "metadata": {},
     "output_type": "execute_result"
    }
   ],
   "source": [
    "data2"
   ]
  },
  {
   "cell_type": "markdown",
   "id": "e940e6fa-9f69-4460-9866-4350a3a0d9ed",
   "metadata": {},
   "source": [
    "## upper_bound=q3+1.5*IQR\n",
    "## lower_bound=q1-1.5*IQR\n",
    "## IQR=q3-q1"
   ]
  },
  {
   "cell_type": "code",
   "execution_count": 31,
   "id": "fc8c5ddb-6b63-481b-a48e-f65fc9d267af",
   "metadata": {},
   "outputs": [],
   "source": [
    "data=[-4,-5, 12, 24, 32, 32, 32, 43, 45, 45, 52, 67, 200, 1000]\n"
   ]
  },
  {
   "cell_type": "code",
   "execution_count": 32,
   "id": "ee57d5f5-f964-4703-b1c5-6392862273a9",
   "metadata": {},
   "outputs": [
    {
     "data": {
      "text/plain": [
       "array([26.  , 37.5 , 50.25])"
      ]
     },
     "execution_count": 32,
     "metadata": {},
     "output_type": "execute_result"
    }
   ],
   "source": [
    "import numpy as np\n",
    "np.percentile(data,[25,50,75])"
   ]
  },
  {
   "cell_type": "code",
   "execution_count": 33,
   "id": "20aed68a-2a2c-453a-b410-9cb57133d70d",
   "metadata": {},
   "outputs": [
    {
     "name": "stdout",
     "output_type": "stream",
     "text": [
      "my iqr is 20\n",
      "my upper_bound is 82.0\n",
      "my lower_bound is 2.0\n"
     ]
    }
   ],
   "source": [
    "q1=32\n",
    "q2=43\n",
    "q3=52\n",
    "IQR=q3-q1\n",
    "print(f\"my iqr is {IQR}\")\n",
    "upper_bound=q3+(1.5*IQR)\n",
    "print(f\"my upper_bound is {upper_bound}\")\n",
    "lower_bound=q1-(1.5*IQR)\n",
    "print(f\"my lower_bound is {lower_bound}\")\n"
   ]
  },
  {
   "cell_type": "code",
   "execution_count": 34,
   "id": "358f49ae-34e6-4e78-864d-8df4d1b03117",
   "metadata": {},
   "outputs": [],
   "source": [
    "outlier=[]\n",
    "loutlier=[]\n",
    "upper_bound=82.0\n",
    "lower_bound=2\n",
    "for i in data:\n",
    "    if i>upper_bound:\n",
    "        outlier.append(i)\n",
    "    if i<lower_bound:\n",
    "        loutlier.append(i)\n"
   ]
  },
  {
   "cell_type": "code",
   "execution_count": 35,
   "id": "441cd06d-dc80-4d8b-a507-b53147d0e91c",
   "metadata": {},
   "outputs": [
    {
     "name": "stdout",
     "output_type": "stream",
     "text": [
      "[200, 1000]\n"
     ]
    }
   ],
   "source": [
    "print(outlier) ## this is a upper outlier "
   ]
  },
  {
   "cell_type": "code",
   "execution_count": 36,
   "id": "43130e32-3b6b-452d-a432-28eb64433317",
   "metadata": {},
   "outputs": [
    {
     "name": "stdout",
     "output_type": "stream",
     "text": [
      "[-4, -5]\n"
     ]
    }
   ],
   "source": [
    "print(loutlier)"
   ]
  },
  {
   "cell_type": "code",
   "execution_count": 37,
   "id": "26701a2a-f628-4c95-8e29-e2fda6fce7af",
   "metadata": {},
   "outputs": [
    {
     "data": {
      "text/plain": [
       "<Axes: >"
      ]
     },
     "execution_count": 37,
     "metadata": {},
     "output_type": "execute_result"
    },
    {
     "data": {
      "image/png": "[encoded data removed]",
      "text/plain": [
       "<Figure size 640x480 with 1 Axes>"
      ]
     },
     "metadata": {},
     "output_type": "display_data"
    }
   ],
   "source": [
    "import seaborn as sns\n",
    "sns.boxplot(data)"
   ]
  },
  {
   "cell_type": "code",
   "execution_count": 38,
   "id": "b6c5d31d-2dd8-4336-994a-5f20962e4f10",
   "metadata": {},
   "outputs": [
    {
     "data": {
      "text/plain": [
       "[-4, -5, 12, 24, 32, 32, 32, 43, 45, 45, 52, 67, 200, 1000]"
      ]
     },
     "execution_count": 38,
     "metadata": {},
     "output_type": "execute_result"
    }
   ],
   "source": [
    "data"
   ]
  },
  {
   "cell_type": "markdown",
   "id": "b7819548-a523-4e50-8f39-b82603d634ce",
   "metadata": {},
   "source": [
    "## variance\n",
    "## std dev"
   ]
  },
  {
   "cell_type": "code",
   "execution_count": 43,
   "id": "6fe50c16-4a27-408a-b4fc-ae9cbc4a03a1",
   "metadata": {},
   "outputs": [],
   "source": [
    "data=[12, 12, 24, 32, 32, 32, 43, 45, 45, 52, 67]"
   ]
  },
  {
   "cell_type": "markdown",
   "id": "32f3f561-3734-4183-b340-00608089d28f",
   "metadata": {},
   "source": [
    "np.var(data)"
   ]
  },
  {
   "cell_type": "code",
   "execution_count": 45,
   "id": "ea03ffb4-90ef-456c-a310-d3ce8dd53d29",
   "metadata": {},
   "outputs": [
    {
     "data": {
      "text/plain": [
       "15.874507866387544"
      ]
     },
     "execution_count": 45,
     "metadata": {},
     "output_type": "execute_result"
    }
   ],
   "source": [
    "np.std(data)"
   ]
  },
  {
   "cell_type": "code",
   "execution_count": 63,
   "id": "9fba05fe-afdf-466c-88ef-da8cf98123f7",
   "metadata": {},
   "outputs": [
    {
     "data": {
      "text/plain": [
       "252.0"
      ]
     },
     "execution_count": 63,
     "metadata": {},
     "output_type": "execute_result"
    }
   ],
   "source": [
    "np.var(data) ## population var"
   ]
  },
  {
   "cell_type": "code",
   "execution_count": 46,
   "id": "075aacce-743b-42b3-bfb0-e8ed16968096",
   "metadata": {},
   "outputs": [],
   "source": [
    "## variance "
   ]
  },
  {
   "cell_type": "code",
   "execution_count": 48,
   "id": "a5a4145c-d637-4678-a8b6-eef6a01a1643",
   "metadata": {},
   "outputs": [
    {
     "data": {
      "text/plain": [
       "[12, 12, 24, 32, 32, 32, 43, 45, 45, 52, 67]"
      ]
     },
     "execution_count": 48,
     "metadata": {},
     "output_type": "execute_result"
    }
   ],
   "source": [
    "data"
   ]
  },
  {
   "cell_type": "code",
   "execution_count": 62,
   "id": "8ca5002b-d4bb-4e27-a651-675222e74dbf",
   "metadata": {},
   "outputs": [
    {
     "name": "stdout",
     "output_type": "stream",
     "text": [
      "the varince of the data is 252.0909090909091\n",
      "the std dev of the data is 15.87737097541369\n"
     ]
    }
   ],
   "source": [
    "x=len(data)\n",
    "y=np.mean(data)\n",
    "z=1\n",
    "for i in data:\n",
    "    z=(i-y)*(i-y)+z\n",
    "h=z/x\n",
    "print(f\"the varince of the data is {h}\")\n",
    "g=np.sqrt(h)\n",
    "print(f\"the std dev of the data is {g}\")"
   ]
  },
  {
   "cell_type": "code",
   "execution_count": 56,
   "id": "d7ef8b35-c395-4a2b-9745-d0443b85f6bf",
   "metadata": {},
   "outputs": [
    {
     "data": {
      "text/plain": [
       "252.0"
      ]
     },
     "execution_count": 56,
     "metadata": {},
     "output_type": "execute_result"
    }
   ],
   "source": [
    "np.var(data)"
   ]
  },
  {
   "cell_type": "code",
   "execution_count": 61,
   "id": "1646ea27-fc4f-47a5-9cfb-311db0158cc2",
   "metadata": {},
   "outputs": [
    {
     "name": "stdout",
     "output_type": "stream",
     "text": [
      "Square root of 16 is 4.0\n"
     ]
    }
   ],
   "source": [
    "import numpy as np\n",
    "\n",
    "number = 16\n",
    "square_root = np.sqrt(number)\n",
    "print(\"Square root of\", number, \"is\", square_root)\n"
   ]
  },
  {
   "cell_type": "code",
   "execution_count": 66,
   "id": "904dd651-f10a-4f91-a45b-1befcd8db298",
   "metadata": {},
   "outputs": [
    {
     "data": {
      "text/plain": [
       "277.2"
      ]
     },
     "execution_count": 66,
     "metadata": {},
     "output_type": "execute_result"
    }
   ],
   "source": [
    "import statistics as s ## it is a sample varince\n",
    "s.variance(data)"
   ]
  },
  {
   "cell_type": "code",
   "execution_count": 68,
   "id": "77edd690-d9c8-41e3-85dd-ef79c6d07e95",
   "metadata": {},
   "outputs": [
    {
     "data": {
      "text/plain": [
       "252"
      ]
     },
     "execution_count": 68,
     "metadata": {},
     "output_type": "execute_result"
    }
   ],
   "source": [
    "s.pvariance(data) ## population variance"
   ]
  },
  {
   "cell_type": "code",
   "execution_count": null,
   "id": "6f6040ab-6187-480c-aa0c-dcb283be6dbb",
   "metadata": {},
   "outputs": [],
   "source": []
  }
 ],
 "metadata": {
  "kernelspec": {
   "display_name": "Python 3 (ipykernel)",
   "language": "python",
   "name": "python3"
  },
  "language_info": {
   "codemirror_mode": {
    "name": "ipython",
    "version": 3
   },
   "file_extension": ".py",
   "mimetype": "text/x-python",
   "name": "python",
   "nbconvert_exporter": "python",
   "pygments_lexer": "ipython3",
   "version": "3.12.4"
  }
 },
 "nbformat": 4,
 "nbformat_minor": 5
}
